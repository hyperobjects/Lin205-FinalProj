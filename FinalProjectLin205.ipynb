{
 "cells": [
  {
   "cell_type": "markdown",
   "metadata": {},
   "source": [
    "Final Project for LIN 205: Programmeringsteknik för lingvister\n",
    "\n",
    "\n",
    "Choose an author and download a couple of his or her books from Project\n",
    "Gutenberg. Next, extract this author’s word bigrams, i.e. all two-word\n",
    "sequences. For instance, in the sentecen \"cats like eating fish\" we have 3\n",
    "bigrams: [(\"cats\", \"like\"), (\"like\", \"eating\"), (\"eating\", \"fish\")].\n",
    "Write a program which generates random sentences given your chosen\n",
    "author’s bigram model. Given a previous word w, it should choose randomly\n",
    "from the words which follow w in the bigram model.\n",
    "\n",
    "• Input: Ebooks downloaded from Project Gutenberg\n",
    "• Output: Randomly generated sentence using the author’s bigram probabilities\n"
   ]
  },
  {
   "cell_type": "code",
   "execution_count": 11,
   "metadata": {},
   "outputs": [],
   "source": [
    "import random\n",
    "from urllib import request\n",
    "import nltk \n",
    "from nltk.tokenize import sent_tokenize\n",
    "from nltk.tokenize import word_tokenize\n",
   ]
  },
  {
   "cell_type": "code",
   "execution_count": 5,
   "metadata": {},
   "outputs": [
    {
     "name": "stdout",
     "output_type": "stream",
     "text": [
      "http://www.gutenberg.org/files/4300/4300-0.txt\n",
      " The Project Gutenberg EBook of Ulysses, by James Joyce  \n",
      "http://www.gutenberg.org/files/2814/2814-0.txt\n",
      " The Project Gutenberg EBook of Dubliners, by James Joyce\n"
     ]
    }
   ],
   "source": [
    "# Import books from Project Gutenberg\n",
    "\n",
    "url = \"http://www.gutenberg.org/files/4300/4300-0.txt\" # This text is Ulysses by James Joyce\n",
    "print(url)\n",
    "response = request.urlopen(url)\n",
    "book = response.read().decode('utf-8-sig').replace('\\n', ' ').replace('\\r', '')\n",
    "print(book[:57])\n",
    "\n",
    "url2 = \"http://www.gutenberg.org/files/2814/2814-0.txt\" # This text is Dubliners by James Joyce\n",
    "print(url2)\n",
    "response = request.urlopen(url2)\n",
    "book2 = response.read().decode('utf-8-sig').replace('\\n', ' ').replace('\\r', '')\n",
    "print(book2[:57])"
   ]
  },
  {
   "cell_type": "markdown",
   "metadata": {},
   "source": [
    "The following function builds a markov chain using a bigram model of the two books. "
   ]
  },
  {
   "cell_type": "code",
   "execution_count": 33,
   "metadata": {},
   "outputs": [],
   "source": [
    "book3 = book + book2 # First, concatenate books.\n",
    "sent_tokenize_list = sent_tokenize(book3) # Next, tokenize sentences.\n",
    "\n",
    "def build_chain(text, chain = {}):\n",
    "    for sentence in sent_tokenize_list:\n",
    "        words = word_tokenize(sentence) # Tokenize words.\n",
    "        words.append('<end>')\n",
    "        startstr = ['<start>']\n",
    "        words = startstr + words\n",
    "        index = 1 \n",
    "        for word in words[index:]:\n",
    "            key = words[index - 1] \n",
    "            if key in chain:\n",
    "                chain[key].append(word)    \n",
    "            else:\n",
    "                chain[key] = [word]\n",
    "            index += 1\n",
    "    return chain\n"
   ]
  },
  {
   "cell_type": "markdown",
   "metadata": {},
   "source": [
    "The following function generates random sentences given the author’s bigram model.\n",
    "Given a previous word w, it should choose randomly."
   ]
  },
  {
   "cell_type": "code",
   "execution_count": 34,
   "metadata": {},
   "outputs": [],
   "source": [
    "def generate_sentence(chain):\n",
    "    word1 = '<start>'\n",
    "    sentence = word1\n",
    "    while word1 != '<end>':  \n",
    "        word2 = random.choice(chain[word1])\n",
    "        word1 = word2\n",
    "        \n",
    "        sentence += ' ' + word2\n",
    "    \n",
    "    return sentence"
   ]
  },
  {
   "cell_type": "code",
   "execution_count": 38,
   "metadata": {},
   "outputs": [],
   "source": [
    "var = build_chain(book3) # pass through concatenated books through build_chain and assign to var. "
   ]
  },
  {
   "cell_type": "code",
   "execution_count": 36,
   "metadata": {},
   "outputs": [
    {
     "data": {
      "text/plain": [
       "'<start> To us and don ’ s Barn . <end>'"
      ]
     },
     "execution_count": 36,
     "metadata": {},
     "output_type": "execute_result"
    }
   ],
   "source": [
    "generate_sentence(var)  # generate random sentence by passing var though the generate_sentence function"
   ]
  },
  {
   "cell_type": "code",
   "execution_count": 50,
   "metadata": {},
   "outputs": [
    {
     "data": {
      "text/plain": [
       "'<start> —Grand is that from the death with other side street west , silvery sequins . <end>'"
      ]
     },
     "execution_count": 50,
     "metadata": {},
     "output_type": "execute_result"
    }
   ],
   "source": [
    "generate_sentence(var)\n"
   ]
  },
  {
   "cell_type": "code",
   "execution_count": 43,
   "metadata": {},
   "outputs": [
    {
     "data": {
      "text/plain": [
       "'<start> He murmurs . <end>'"
      ]
     },
     "execution_count": 43,
     "metadata": {},
     "output_type": "execute_result"
    }
   ],
   "source": [
    "generate_sentence(var)"
   ]
  },
  {
   "cell_type": "code",
   "execution_count": 46,
   "metadata": {},
   "outputs": [
    {
     "data": {
      "text/plain": [
       "'<start> —Lovely weather outside the same gist of the thing I wonder what ’ t mouse as much as good men get in any empire they gave him home on one about the Friday one of angels , Mr President . <end>'"
      ]
     },
     "execution_count": 46,
     "metadata": {},
     "output_type": "execute_result"
    }
   ],
   "source": [
    "generate_sentence(var)"
   ]
  },
  {
   "cell_type": "code",
   "execution_count": 47,
   "metadata": {},
   "outputs": [
    {
     "data": {
      "text/plain": [
       "'<start> Do you know of his handbell and other could for a loveliness , the satellite of life and beginning of how your kind of Project Gutenberg EBook of fear it ’ s at two boots and got the public-house in Capel street corner ! <end>'"
      ]
     },
     "execution_count": 47,
     "metadata": {},
     "output_type": "execute_result"
    }
   ],
   "source": [
    "generate_sentence(var)"
   ]
  },
  {
   "cell_type": "code",
   "execution_count": 48,
   "metadata": {},
   "outputs": [
    {
     "data": {
      "text/plain": [
       "'<start> To evening paper come back for a cluster of the Ox and at each other format with those features up ! <end>'"
      ]
     },
     "execution_count": 48,
     "metadata": {},
     "output_type": "execute_result"
    }
   ],
   "source": [
    "generate_sentence(var)"
   ]
  },
  {
   "cell_type": "code",
   "execution_count": 49,
   "metadata": {},
   "outputs": [
    {
     "data": {
      "text/plain": [
       "'<start> Queen ’ s unclean loins , pouring gushes . <end>'"
      ]
     },
     "execution_count": 49,
     "metadata": {},
     "output_type": "execute_result"
    }
   ],
   "source": [
    "generate_sentence(var)"
   ]
  },
  {
   "cell_type": "code",
   "execution_count": null,
   "metadata": {},
   "outputs": [],
   "source": []
  }
 ],
 "metadata": {
  "kernelspec": {
   "display_name": "Python 3",
   "language": "python",
   "name": "python3"
  },
  "language_info": {
   "codemirror_mode": {
    "name": "ipython",
    "version": 3
   },
   "file_extension": ".py",
   "mimetype": "text/x-python",
   "name": "python",
   "nbconvert_exporter": "python",
   "pygments_lexer": "ipython3",
   "version": "3.6.4"
  }
 },
 "nbformat": 4,
 "nbformat_minor": 2
}
